{
 "cells": [
  {
   "cell_type": "markdown",
   "metadata": {},
   "source": [
    "## 1. Importing libraries"
   ]
  },
  {
   "cell_type": "code",
   "execution_count": 1,
   "metadata": {},
   "outputs": [],
   "source": [
    "import numpy as np\n",
    "import pandas as pd\n",
    "import seaborn as sns\n",
    "import matplotlib.pyplot as plt\n",
    "\n",
    "%matplotlib inline\n",
    "plt.style.use('bmh')"
   ]
  },
  {
   "cell_type": "markdown",
   "metadata": {},
   "source": [
    "## 2. Exploratory data analysis"
   ]
  },
  {
   "cell_type": "code",
   "execution_count": 2,
   "metadata": {},
   "outputs": [
    {
     "data": {
      "text/html": [
       "<div>\n",
       "<style scoped>\n",
       "    .dataframe tbody tr th:only-of-type {\n",
       "        vertical-align: middle;\n",
       "    }\n",
       "\n",
       "    .dataframe tbody tr th {\n",
       "        vertical-align: top;\n",
       "    }\n",
       "\n",
       "    .dataframe thead th {\n",
       "        text-align: right;\n",
       "    }\n",
       "</style>\n",
       "<table border=\"1\" class=\"dataframe\">\n",
       "  <thead>\n",
       "    <tr style=\"text-align: right;\">\n",
       "      <th></th>\n",
       "      <th>client_id</th>\n",
       "      <th>target</th>\n",
       "    </tr>\n",
       "  </thead>\n",
       "  <tbody>\n",
       "    <tr>\n",
       "      <th>0</th>\n",
       "      <td>75063019</td>\n",
       "      <td>0</td>\n",
       "    </tr>\n",
       "    <tr>\n",
       "      <th>1</th>\n",
       "      <td>86227647</td>\n",
       "      <td>1</td>\n",
       "    </tr>\n",
       "    <tr>\n",
       "      <th>2</th>\n",
       "      <td>6506523</td>\n",
       "      <td>0</td>\n",
       "    </tr>\n",
       "    <tr>\n",
       "      <th>3</th>\n",
       "      <td>50615998</td>\n",
       "      <td>0</td>\n",
       "    </tr>\n",
       "    <tr>\n",
       "      <th>4</th>\n",
       "      <td>95213230</td>\n",
       "      <td>0</td>\n",
       "    </tr>\n",
       "  </tbody>\n",
       "</table>\n",
       "</div>"
      ],
      "text/plain": [
       "   client_id  target\n",
       "0   75063019       0\n",
       "1   86227647       1\n",
       "2    6506523       0\n",
       "3   50615998       0\n",
       "4   95213230       0"
      ]
     },
     "execution_count": 2,
     "metadata": {},
     "output_type": "execute_result"
    }
   ],
   "source": [
    "train_set = pd.read_csv('train_set.csv', delimiter = ';')\n",
    "train_set.head()"
   ]
  },
  {
   "cell_type": "code",
   "execution_count": 3,
   "metadata": {},
   "outputs": [
    {
     "data": {
      "text/html": [
       "<div>\n",
       "<style scoped>\n",
       "    .dataframe tbody tr th:only-of-type {\n",
       "        vertical-align: middle;\n",
       "    }\n",
       "\n",
       "    .dataframe tbody tr th {\n",
       "        vertical-align: top;\n",
       "    }\n",
       "\n",
       "    .dataframe thead th {\n",
       "        text-align: right;\n",
       "    }\n",
       "</style>\n",
       "<table border=\"1\" class=\"dataframe\">\n",
       "  <thead>\n",
       "    <tr style=\"text-align: right;\">\n",
       "      <th></th>\n",
       "      <th>client_id</th>\n",
       "      <th>target</th>\n",
       "    </tr>\n",
       "  </thead>\n",
       "  <tbody>\n",
       "    <tr>\n",
       "      <th>count</th>\n",
       "      <td>6.000000e+03</td>\n",
       "      <td>6000.000000</td>\n",
       "    </tr>\n",
       "    <tr>\n",
       "      <th>mean</th>\n",
       "      <td>5.102984e+07</td>\n",
       "      <td>0.443333</td>\n",
       "    </tr>\n",
       "    <tr>\n",
       "      <th>std</th>\n",
       "      <td>2.881391e+07</td>\n",
       "      <td>0.496820</td>\n",
       "    </tr>\n",
       "    <tr>\n",
       "      <th>min</th>\n",
       "      <td>2.289900e+04</td>\n",
       "      <td>0.000000</td>\n",
       "    </tr>\n",
       "    <tr>\n",
       "      <th>25%</th>\n",
       "      <td>2.612906e+07</td>\n",
       "      <td>0.000000</td>\n",
       "    </tr>\n",
       "    <tr>\n",
       "      <th>50%</th>\n",
       "      <td>5.164080e+07</td>\n",
       "      <td>0.000000</td>\n",
       "    </tr>\n",
       "    <tr>\n",
       "      <th>75%</th>\n",
       "      <td>7.590927e+07</td>\n",
       "      <td>1.000000</td>\n",
       "    </tr>\n",
       "    <tr>\n",
       "      <th>max</th>\n",
       "      <td>9.999124e+07</td>\n",
       "      <td>1.000000</td>\n",
       "    </tr>\n",
       "  </tbody>\n",
       "</table>\n",
       "</div>"
      ],
      "text/plain": [
       "          client_id       target\n",
       "count  6.000000e+03  6000.000000\n",
       "mean   5.102984e+07     0.443333\n",
       "std    2.881391e+07     0.496820\n",
       "min    2.289900e+04     0.000000\n",
       "25%    2.612906e+07     0.000000\n",
       "50%    5.164080e+07     0.000000\n",
       "75%    7.590927e+07     1.000000\n",
       "max    9.999124e+07     1.000000"
      ]
     },
     "execution_count": 3,
     "metadata": {},
     "output_type": "execute_result"
    }
   ],
   "source": [
    "# dataset is not disbalanced\n",
    "train_set.describe()"
   ]
  },
  {
   "cell_type": "code",
   "execution_count": 4,
   "metadata": {},
   "outputs": [
    {
     "data": {
      "text/html": [
       "<div>\n",
       "<style scoped>\n",
       "    .dataframe tbody tr th:only-of-type {\n",
       "        vertical-align: middle;\n",
       "    }\n",
       "\n",
       "    .dataframe tbody tr th {\n",
       "        vertical-align: top;\n",
       "    }\n",
       "\n",
       "    .dataframe thead th {\n",
       "        text-align: right;\n",
       "    }\n",
       "</style>\n",
       "<table border=\"1\" class=\"dataframe\">\n",
       "  <thead>\n",
       "    <tr style=\"text-align: right;\">\n",
       "      <th></th>\n",
       "      <th>client_id</th>\n",
       "    </tr>\n",
       "  </thead>\n",
       "  <tbody>\n",
       "    <tr>\n",
       "      <th>0</th>\n",
       "      <td>61240380</td>\n",
       "    </tr>\n",
       "    <tr>\n",
       "      <th>1</th>\n",
       "      <td>34114030</td>\n",
       "    </tr>\n",
       "    <tr>\n",
       "      <th>2</th>\n",
       "      <td>15926722</td>\n",
       "    </tr>\n",
       "    <tr>\n",
       "      <th>3</th>\n",
       "      <td>50598019</td>\n",
       "    </tr>\n",
       "    <tr>\n",
       "      <th>4</th>\n",
       "      <td>76475250</td>\n",
       "    </tr>\n",
       "  </tbody>\n",
       "</table>\n",
       "</div>"
      ],
      "text/plain": [
       "   client_id\n",
       "0   61240380\n",
       "1   34114030\n",
       "2   15926722\n",
       "3   50598019\n",
       "4   76475250"
      ]
     },
     "execution_count": 4,
     "metadata": {},
     "output_type": "execute_result"
    }
   ],
   "source": [
    "test_set = pd.read_csv('test_set.csv', delimiter = ';')\n",
    "test_set.head()"
   ]
  },
  {
   "cell_type": "code",
   "execution_count": 5,
   "metadata": {},
   "outputs": [
    {
     "data": {
      "text/plain": [
       "(2656, 1)"
      ]
     },
     "execution_count": 5,
     "metadata": {},
     "output_type": "execute_result"
    }
   ],
   "source": [
    "test_set.shape"
   ]
  },
  {
   "cell_type": "code",
   "execution_count": 6,
   "metadata": {},
   "outputs": [
    {
     "data": {
      "text/html": [
       "<div>\n",
       "<style scoped>\n",
       "    .dataframe tbody tr th:only-of-type {\n",
       "        vertical-align: middle;\n",
       "    }\n",
       "\n",
       "    .dataframe tbody tr th {\n",
       "        vertical-align: top;\n",
       "    }\n",
       "\n",
       "    .dataframe thead th {\n",
       "        text-align: right;\n",
       "    }\n",
       "</style>\n",
       "<table border=\"1\" class=\"dataframe\">\n",
       "  <thead>\n",
       "    <tr style=\"text-align: right;\">\n",
       "      <th></th>\n",
       "      <th>client_id</th>\n",
       "      <th>datetime</th>\n",
       "      <th>code</th>\n",
       "      <th>type</th>\n",
       "      <th>sum</th>\n",
       "    </tr>\n",
       "  </thead>\n",
       "  <tbody>\n",
       "    <tr>\n",
       "      <th>0</th>\n",
       "      <td>96372458</td>\n",
       "      <td>421 06:33:15</td>\n",
       "      <td>6011</td>\n",
       "      <td>2010</td>\n",
       "      <td>-561478.94</td>\n",
       "    </tr>\n",
       "    <tr>\n",
       "      <th>1</th>\n",
       "      <td>24567813</td>\n",
       "      <td>377 17:20:40</td>\n",
       "      <td>6011</td>\n",
       "      <td>7010</td>\n",
       "      <td>67377.47</td>\n",
       "    </tr>\n",
       "    <tr>\n",
       "      <th>2</th>\n",
       "      <td>21717441</td>\n",
       "      <td>55 13:38:47</td>\n",
       "      <td>6011</td>\n",
       "      <td>2010</td>\n",
       "      <td>-44918.32</td>\n",
       "    </tr>\n",
       "    <tr>\n",
       "      <th>3</th>\n",
       "      <td>14331004</td>\n",
       "      <td>263 12:57:08</td>\n",
       "      <td>6011</td>\n",
       "      <td>2010</td>\n",
       "      <td>-3368873.66</td>\n",
       "    </tr>\n",
       "    <tr>\n",
       "      <th>4</th>\n",
       "      <td>85302434</td>\n",
       "      <td>151 10:34:12</td>\n",
       "      <td>4814</td>\n",
       "      <td>1030</td>\n",
       "      <td>-3368.87</td>\n",
       "    </tr>\n",
       "  </tbody>\n",
       "</table>\n",
       "</div>"
      ],
      "text/plain": [
       "   client_id      datetime  code  type         sum\n",
       "0   96372458  421 06:33:15  6011  2010  -561478.94\n",
       "1   24567813  377 17:20:40  6011  7010    67377.47\n",
       "2   21717441   55 13:38:47  6011  2010   -44918.32\n",
       "3   14331004  263 12:57:08  6011  2010 -3368873.66\n",
       "4   85302434  151 10:34:12  4814  1030    -3368.87"
      ]
     },
     "execution_count": 6,
     "metadata": {},
     "output_type": "execute_result"
    }
   ],
   "source": [
    "transactions = pd.read_csv('transactions.csv', delimiter = ';')\n",
    "transactions.head()"
   ]
  },
  {
   "cell_type": "code",
   "execution_count": 7,
   "metadata": {},
   "outputs": [
    {
     "data": {
      "text/html": [
       "<div>\n",
       "<style scoped>\n",
       "    .dataframe tbody tr th:only-of-type {\n",
       "        vertical-align: middle;\n",
       "    }\n",
       "\n",
       "    .dataframe tbody tr th {\n",
       "        vertical-align: top;\n",
       "    }\n",
       "\n",
       "    .dataframe thead th {\n",
       "        text-align: right;\n",
       "    }\n",
       "</style>\n",
       "<table border=\"1\" class=\"dataframe\">\n",
       "  <thead>\n",
       "    <tr style=\"text-align: right;\">\n",
       "      <th></th>\n",
       "      <th>client_id</th>\n",
       "      <th>code</th>\n",
       "      <th>type</th>\n",
       "      <th>sum</th>\n",
       "    </tr>\n",
       "  </thead>\n",
       "  <tbody>\n",
       "    <tr>\n",
       "      <th>count</th>\n",
       "      <td>1.300390e+05</td>\n",
       "      <td>130039.000000</td>\n",
       "      <td>130039.000000</td>\n",
       "      <td>1.300390e+05</td>\n",
       "    </tr>\n",
       "    <tr>\n",
       "      <th>mean</th>\n",
       "      <td>5.086859e+07</td>\n",
       "      <td>5594.629996</td>\n",
       "      <td>2489.372135</td>\n",
       "      <td>-1.812909e+04</td>\n",
       "    </tr>\n",
       "    <tr>\n",
       "      <th>std</th>\n",
       "      <td>2.872854e+07</td>\n",
       "      <td>606.087084</td>\n",
       "      <td>2253.296578</td>\n",
       "      <td>5.584445e+05</td>\n",
       "    </tr>\n",
       "    <tr>\n",
       "      <th>min</th>\n",
       "      <td>2.289900e+04</td>\n",
       "      <td>742.000000</td>\n",
       "      <td>1000.000000</td>\n",
       "      <td>-4.150030e+07</td>\n",
       "    </tr>\n",
       "    <tr>\n",
       "      <th>25%</th>\n",
       "      <td>2.577174e+07</td>\n",
       "      <td>5211.000000</td>\n",
       "      <td>1030.000000</td>\n",
       "      <td>-2.244916e+04</td>\n",
       "    </tr>\n",
       "    <tr>\n",
       "      <th>50%</th>\n",
       "      <td>5.235837e+07</td>\n",
       "      <td>5641.000000</td>\n",
       "      <td>1110.000000</td>\n",
       "      <td>-5.502490e+03</td>\n",
       "    </tr>\n",
       "    <tr>\n",
       "      <th>75%</th>\n",
       "      <td>7.506302e+07</td>\n",
       "      <td>6010.000000</td>\n",
       "      <td>2370.000000</td>\n",
       "      <td>-1.122960e+03</td>\n",
       "    </tr>\n",
       "    <tr>\n",
       "      <th>max</th>\n",
       "      <td>9.999968e+07</td>\n",
       "      <td>9402.000000</td>\n",
       "      <td>8145.000000</td>\n",
       "      <td>6.737747e+07</td>\n",
       "    </tr>\n",
       "  </tbody>\n",
       "</table>\n",
       "</div>"
      ],
      "text/plain": [
       "          client_id           code           type           sum\n",
       "count  1.300390e+05  130039.000000  130039.000000  1.300390e+05\n",
       "mean   5.086859e+07    5594.629996    2489.372135 -1.812909e+04\n",
       "std    2.872854e+07     606.087084    2253.296578  5.584445e+05\n",
       "min    2.289900e+04     742.000000    1000.000000 -4.150030e+07\n",
       "25%    2.577174e+07    5211.000000    1030.000000 -2.244916e+04\n",
       "50%    5.235837e+07    5641.000000    1110.000000 -5.502490e+03\n",
       "75%    7.506302e+07    6010.000000    2370.000000 -1.122960e+03\n",
       "max    9.999968e+07    9402.000000    8145.000000  6.737747e+07"
      ]
     },
     "execution_count": 7,
     "metadata": {},
     "output_type": "execute_result"
    }
   ],
   "source": [
    "transactions.describe()"
   ]
  },
  {
   "cell_type": "code",
   "execution_count": 8,
   "metadata": {},
   "outputs": [
    {
     "data": {
      "text/html": [
       "<div>\n",
       "<style scoped>\n",
       "    .dataframe tbody tr th:only-of-type {\n",
       "        vertical-align: middle;\n",
       "    }\n",
       "\n",
       "    .dataframe tbody tr th {\n",
       "        vertical-align: top;\n",
       "    }\n",
       "\n",
       "    .dataframe thead th {\n",
       "        text-align: right;\n",
       "    }\n",
       "</style>\n",
       "<table border=\"1\" class=\"dataframe\">\n",
       "  <thead>\n",
       "    <tr style=\"text-align: right;\">\n",
       "      <th></th>\n",
       "      <th>type</th>\n",
       "      <th>type_description</th>\n",
       "    </tr>\n",
       "  </thead>\n",
       "  <tbody>\n",
       "    <tr>\n",
       "      <th>0</th>\n",
       "      <td>8001</td>\n",
       "      <td>Установление расх. лимита по карте</td>\n",
       "    </tr>\n",
       "    <tr>\n",
       "      <th>1</th>\n",
       "      <td>2411</td>\n",
       "      <td>Перевод с карты на счет др.лица в одном тер. б...</td>\n",
       "    </tr>\n",
       "    <tr>\n",
       "      <th>2</th>\n",
       "      <td>4035</td>\n",
       "      <td>н/д(нет данных)</td>\n",
       "    </tr>\n",
       "    <tr>\n",
       "      <th>3</th>\n",
       "      <td>3001</td>\n",
       "      <td>Комиссия за обслуживание ссудного счета</td>\n",
       "    </tr>\n",
       "    <tr>\n",
       "      <th>4</th>\n",
       "      <td>2420</td>\n",
       "      <td>Перевод с карты на счет физ.лица в другом тер....</td>\n",
       "    </tr>\n",
       "  </tbody>\n",
       "</table>\n",
       "</div>"
      ],
      "text/plain": [
       "   type                                   type_description\n",
       "0  8001                 Установление расх. лимита по карте\n",
       "1  2411  Перевод с карты на счет др.лица в одном тер. б...\n",
       "2  4035                                    н/д(нет данных)\n",
       "3  3001            Комиссия за обслуживание ссудного счета\n",
       "4  2420  Перевод с карты на счет физ.лица в другом тер...."
      ]
     },
     "execution_count": 8,
     "metadata": {},
     "output_type": "execute_result"
    }
   ],
   "source": [
    "types = pd.read_csv('types.csv', delimiter = ';')\n",
    "types.head()"
   ]
  },
  {
   "cell_type": "code",
   "execution_count": 9,
   "metadata": {},
   "outputs": [
    {
     "data": {
      "text/plain": [
       "(155, 2)"
      ]
     },
     "execution_count": 9,
     "metadata": {},
     "output_type": "execute_result"
    }
   ],
   "source": [
    "types.shape"
   ]
  },
  {
   "cell_type": "code",
   "execution_count": 10,
   "metadata": {},
   "outputs": [
    {
     "data": {
      "text/html": [
       "<div>\n",
       "<style scoped>\n",
       "    .dataframe tbody tr th:only-of-type {\n",
       "        vertical-align: middle;\n",
       "    }\n",
       "\n",
       "    .dataframe tbody tr th {\n",
       "        vertical-align: top;\n",
       "    }\n",
       "\n",
       "    .dataframe thead th {\n",
       "        text-align: right;\n",
       "    }\n",
       "</style>\n",
       "<table border=\"1\" class=\"dataframe\">\n",
       "  <thead>\n",
       "    <tr style=\"text-align: right;\">\n",
       "      <th></th>\n",
       "      <th>code</th>\n",
       "      <th>code_description</th>\n",
       "    </tr>\n",
       "  </thead>\n",
       "  <tbody>\n",
       "    <tr>\n",
       "      <th>0</th>\n",
       "      <td>5944</td>\n",
       "      <td>Магазины по продаже часов, ювелирных изделий и...</td>\n",
       "    </tr>\n",
       "    <tr>\n",
       "      <th>1</th>\n",
       "      <td>5621</td>\n",
       "      <td>Готовые сумочные изделия</td>\n",
       "    </tr>\n",
       "    <tr>\n",
       "      <th>2</th>\n",
       "      <td>5697</td>\n",
       "      <td>Услуги по переделке, починке и пошиву одежды</td>\n",
       "    </tr>\n",
       "    <tr>\n",
       "      <th>3</th>\n",
       "      <td>7995</td>\n",
       "      <td>Транзакции по азартным играм</td>\n",
       "    </tr>\n",
       "    <tr>\n",
       "      <th>4</th>\n",
       "      <td>5137</td>\n",
       "      <td>Мужская, женская и детская спец-одежда</td>\n",
       "    </tr>\n",
       "  </tbody>\n",
       "</table>\n",
       "</div>"
      ],
      "text/plain": [
       "   code                                   code_description\n",
       "0  5944  Магазины по продаже часов, ювелирных изделий и...\n",
       "1  5621                           Готовые сумочные изделия\n",
       "2  5697       Услуги по переделке, починке и пошиву одежды\n",
       "3  7995                       Транзакции по азартным играм\n",
       "4  5137             Мужская, женская и детская спец-одежда"
      ]
     },
     "execution_count": 10,
     "metadata": {},
     "output_type": "execute_result"
    }
   ],
   "source": [
    "codes = pd.read_csv('codes.csv', delimiter = ';')\n",
    "codes.head()"
   ]
  },
  {
   "cell_type": "code",
   "execution_count": 11,
   "metadata": {},
   "outputs": [
    {
     "data": {
      "text/plain": [
       "(184, 2)"
      ]
     },
     "execution_count": 11,
     "metadata": {},
     "output_type": "execute_result"
    }
   ],
   "source": [
    "codes.shape"
   ]
  },
  {
   "cell_type": "code",
   "execution_count": 12,
   "metadata": {},
   "outputs": [
    {
     "data": {
      "image/png": "[encoded data removed]",
      "text/plain": [
       "<Figure size 648x576 with 1 Axes>"
      ]
     },
     "metadata": {
      "needs_background": "light"
     },
     "output_type": "display_data"
    }
   ],
   "source": [
    "plt.figure(figsize=(9, 8))\n",
    "sns.distplot(transactions['sum'], color='g', bins=100, hist_kws={'alpha': 0.4});"
   ]
  },
  {
   "cell_type": "code",
   "execution_count": 13,
   "metadata": {},
   "outputs": [
    {
     "name": "stdout",
     "output_type": "stream",
     "text": [
      "1010    30802\n",
      "2010    20204\n",
      "1030    18368\n",
      "1110    17648\n",
      "7070    12915\n",
      "2370     6848\n",
      "7010     4989\n",
      "7030     2860\n",
      "1100     2232\n",
      "1200     1797\n",
      "7071     1538\n",
      "2330     1370\n",
      "4071     1175\n",
      "2371     1170\n",
      "2011     1139\n",
      "4010      583\n",
      "7031      568\n",
      "6110      409\n",
      "4051      393\n",
      "2331      390\n",
      "Name: type, dtype: int64\n"
     ]
    }
   ],
   "source": [
    "popular_types = transactions['type'].value_counts()[:20]\n",
    "print(popular_types)"
   ]
  },
  {
   "cell_type": "code",
   "execution_count": 14,
   "metadata": {},
   "outputs": [
    {
     "name": "stdout",
     "output_type": "stream",
     "text": [
      "6011    27917\n",
      "6010    18684\n",
      "4814    18641\n",
      "5411    18490\n",
      "4829    11423\n",
      "5499     6480\n",
      "5912     2685\n",
      "5541     2672\n",
      "5331     2518\n",
      "5812     2052\n",
      "5814     1766\n",
      "5999     1108\n",
      "5921     1094\n",
      "5311      708\n",
      "5977      676\n",
      "5964      630\n",
      "5983      577\n",
      "5211      564\n",
      "5691      527\n",
      "7995      469\n",
      "Name: code, dtype: int64\n"
     ]
    }
   ],
   "source": [
    "popular_codes = transactions['code'].value_counts()[:20]\n",
    "print(popular_codes)"
   ]
  },
  {
   "cell_type": "markdown",
   "metadata": {},
   "source": [
    "## Feature engineering"
   ]
  },
  {
   "cell_type": "code",
   "execution_count": 15,
   "metadata": {},
   "outputs": [
    {
     "name": "stdout",
     "output_type": "stream",
     "text": [
      "                  sum\n",
      "client_id            \n",
      "22899        50847.54\n",
      "27914        74115.21\n",
      "28753     -2589800.29\n",
      "31385       -83525.38\n",
      "38084       693495.66\n",
      "...               ...\n",
      "99967537   -336887.37\n",
      "99984336     78607.06\n",
      "99985917   -224591.58\n",
      "99991245    569609.16\n",
      "99999680   -651595.19\n",
      "\n",
      "[8656 rows x 1 columns]\n"
     ]
    }
   ],
   "source": [
    "# total sum of transactions\n",
    "aggregated = transactions.groupby(\"client_id\").sum().drop(columns = ['code','type'])\n",
    "print(aggregated)"
   ]
  },
  {
   "cell_type": "code",
   "execution_count": 16,
   "metadata": {},
   "outputs": [
    {
     "name": "stdout",
     "output_type": "stream",
     "text": [
      "                  sum  count_transactions\n",
      "client_id                                \n",
      "22899        50847.54                   9\n",
      "27914        74115.21                   4\n",
      "28753     -2589800.29                  13\n",
      "31385       -83525.38                  13\n",
      "38084       693495.66                  26\n",
      "...               ...                 ...\n",
      "99967537   -336887.37                   1\n",
      "99984336     78607.06                   4\n",
      "99985917   -224591.58                   1\n",
      "99991245    569609.16                   4\n",
      "99999680   -651595.19                  15\n",
      "\n",
      "[8656 rows x 2 columns]\n"
     ]
    }
   ],
   "source": [
    "aggregated_1 = transactions.groupby(\"client_id\").count().drop(columns = ['code','type', 'datetime']).rename(columns={'sum': 'count_transactions'})\n",
    "aggregated = pd.concat([aggregated, aggregated_1], axis=1, join=\"outer\")\n",
    "print(aggregated)"
   ]
  },
  {
   "cell_type": "code",
   "execution_count": 17,
   "metadata": {},
   "outputs": [],
   "source": [
    "# features with most popular code and type\n",
    "buffer = transactions.groupby(\"client_id\").median().drop(columns = 'sum')"
   ]
  },
  {
   "cell_type": "code",
   "execution_count": 18,
   "metadata": {},
   "outputs": [
    {
     "name": "stdout",
     "output_type": "stream",
     "text": [
      "           sum_of_transactions  count_transactions most_common_code  \\\n",
      "client_id                                                             \n",
      "22899                 50847.54                   9           6010.0   \n",
      "27914                 74115.21                   4           5412.0   \n",
      "28753              -2589800.29                  13           5661.0   \n",
      "31385                -83525.38                  13           5411.0   \n",
      "38084                693495.66                  26           5411.0   \n",
      "...                        ...                 ...              ...   \n",
      "99967537            -336887.37                   1           6011.0   \n",
      "99984336              78607.06                   4           6011.0   \n",
      "99985917            -224591.58                   1           6011.0   \n",
      "99991245             569609.16                   4           5755.0   \n",
      "99999680            -651595.19                  15           5541.0   \n",
      "\n",
      "          most_common_type  \n",
      "client_id                   \n",
      "22899               4010.0  \n",
      "27914               4020.0  \n",
      "28753               1030.0  \n",
      "31385               1030.0  \n",
      "38084               1210.0  \n",
      "...                    ...  \n",
      "99967537            2010.0  \n",
      "99984336            7010.0  \n",
      "99985917            2010.0  \n",
      "99991245            4670.0  \n",
      "99999680            1110.0  \n",
      "\n",
      "[8656 rows x 4 columns]\n"
     ]
    }
   ],
   "source": [
    "predictors = pd.concat([aggregated, buffer], axis=1, join=\"outer\")\n",
    "predictors = predictors.rename(columns={'sum': 'sum_of_transactions', 'code': 'most_common_code', 'type': 'most_common_type'})\n",
    "predictors['most_common_code'] = predictors['most_common_code'].astype(\"category\")\n",
    "predictors['most_common_type'] = predictors['most_common_type'].astype(\"category\")\n",
    "print(predictors)"
   ]
  },
  {
   "cell_type": "code",
   "execution_count": 19,
   "metadata": {},
   "outputs": [
    {
     "data": {
      "text/html": [
       "<div>\n",
       "<style scoped>\n",
       "    .dataframe tbody tr th:only-of-type {\n",
       "        vertical-align: middle;\n",
       "    }\n",
       "\n",
       "    .dataframe tbody tr th {\n",
       "        vertical-align: top;\n",
       "    }\n",
       "\n",
       "    .dataframe thead th {\n",
       "        text-align: right;\n",
       "    }\n",
       "</style>\n",
       "<table border=\"1\" class=\"dataframe\">\n",
       "  <thead>\n",
       "    <tr style=\"text-align: right;\">\n",
       "      <th></th>\n",
       "      <th>client_id</th>\n",
       "      <th>datetime</th>\n",
       "      <th>sum</th>\n",
       "      <th>day_number</th>\n",
       "      <th>time</th>\n",
       "    </tr>\n",
       "  </thead>\n",
       "  <tbody>\n",
       "    <tr>\n",
       "      <th>0</th>\n",
       "      <td>96372458</td>\n",
       "      <td>421 06:33:15</td>\n",
       "      <td>-561478.94</td>\n",
       "      <td>421</td>\n",
       "      <td>6</td>\n",
       "    </tr>\n",
       "    <tr>\n",
       "      <th>1</th>\n",
       "      <td>24567813</td>\n",
       "      <td>377 17:20:40</td>\n",
       "      <td>67377.47</td>\n",
       "      <td>377</td>\n",
       "      <td>17</td>\n",
       "    </tr>\n",
       "    <tr>\n",
       "      <th>2</th>\n",
       "      <td>21717441</td>\n",
       "      <td>55 13:38:47</td>\n",
       "      <td>-44918.32</td>\n",
       "      <td>55</td>\n",
       "      <td>13</td>\n",
       "    </tr>\n",
       "    <tr>\n",
       "      <th>3</th>\n",
       "      <td>14331004</td>\n",
       "      <td>263 12:57:08</td>\n",
       "      <td>-3368873.66</td>\n",
       "      <td>263</td>\n",
       "      <td>12</td>\n",
       "    </tr>\n",
       "    <tr>\n",
       "      <th>4</th>\n",
       "      <td>85302434</td>\n",
       "      <td>151 10:34:12</td>\n",
       "      <td>-3368.87</td>\n",
       "      <td>151</td>\n",
       "      <td>10</td>\n",
       "    </tr>\n",
       "  </tbody>\n",
       "</table>\n",
       "</div>"
      ],
      "text/plain": [
       "   client_id      datetime         sum day_number  time\n",
       "0   96372458  421 06:33:15  -561478.94        421     6\n",
       "1   24567813  377 17:20:40    67377.47        377    17\n",
       "2   21717441   55 13:38:47   -44918.32        55     13\n",
       "3   14331004  263 12:57:08 -3368873.66        263    12\n",
       "4   85302434  151 10:34:12    -3368.87        151    10"
      ]
     },
     "execution_count": 19,
     "metadata": {},
     "output_type": "execute_result"
    }
   ],
   "source": [
    "# average hour of transaction\n",
    "from datetime import datetime\n",
    "\n",
    "time = transactions.drop(columns = ['code', 'type'])\n",
    "time['day_number'] = transactions['datetime'].str[:3]\n",
    "time['time'] = transactions['datetime'].str[-8:].str[:2]\n",
    "time['time'] = time['time'].astype(int)\n",
    "time.head()"
   ]
  },
  {
   "cell_type": "code",
   "execution_count": 20,
   "metadata": {},
   "outputs": [
    {
     "name": "stdout",
     "output_type": "stream",
     "text": [
      "           sum_of_transactions  count_transactions most_common_code  \\\n",
      "client_id                                                             \n",
      "22899                 50847.54                   9           6010.0   \n",
      "27914                 74115.21                   4           5412.0   \n",
      "28753              -2589800.29                  13           5661.0   \n",
      "31385                -83525.38                  13           5411.0   \n",
      "38084                693495.66                  26           5411.0   \n",
      "...                        ...                 ...              ...   \n",
      "99967537            -336887.37                   1           6011.0   \n",
      "99984336              78607.06                   4           6011.0   \n",
      "99985917            -224591.58                   1           6011.0   \n",
      "99991245             569609.16                   4           5755.0   \n",
      "99999680            -651595.19                  15           5541.0   \n",
      "\n",
      "          most_common_type  mean_hour  \n",
      "client_id                              \n",
      "22899               4010.0  13.555556  \n",
      "27914               4020.0  12.250000  \n",
      "28753               1030.0   7.000000  \n",
      "31385               1030.0  14.538462  \n",
      "38084               1210.0  13.000000  \n",
      "...                    ...        ...  \n",
      "99967537            2010.0   9.000000  \n",
      "99984336            7010.0  14.250000  \n",
      "99985917            2010.0  11.000000  \n",
      "99991245            4670.0   7.250000  \n",
      "99999680            1110.0   6.933333  \n",
      "\n",
      "[8656 rows x 5 columns]\n"
     ]
    }
   ],
   "source": [
    "buffer_1 = time.drop(columns = ['sum', 'day_number', 'datetime']).groupby(\"client_id\").mean()\n",
    "buffer_1 = buffer_1.rename(columns={'time': 'mean_hour'})\n",
    "buffer_1.head()\n",
    "predictors = pd.merge(predictors, buffer_1, on = 'client_id', how =\"left\")\n",
    "print(predictors)"
   ]
  },
  {
   "cell_type": "code",
   "execution_count": 21,
   "metadata": {},
   "outputs": [
    {
     "name": "stdout",
     "output_type": "stream",
     "text": [
      "      client_id  sum_of_transactions  count_transactions most_common_code  \\\n",
      "0         22899             50847.54                   9           6010.0   \n",
      "1         27914             74115.21                   4           5412.0   \n",
      "2         28753          -2589800.29                  13           5661.0   \n",
      "3         31385            -83525.38                  13           5411.0   \n",
      "4         38084            693495.66                  26           5411.0   \n",
      "...         ...                  ...                 ...              ...   \n",
      "8651   99967537           -336887.37                   1           6011.0   \n",
      "8652   99984336             78607.06                   4           6011.0   \n",
      "8653   99985917           -224591.58                   1           6011.0   \n",
      "8654   99991245            569609.16                   4           5755.0   \n",
      "8655   99999680           -651595.19                  15           5541.0   \n",
      "\n",
      "     most_common_type  mean_hour  transactions_calls  \n",
      "0              4010.0  13.555556                   1  \n",
      "1              4020.0  12.250000                   2  \n",
      "2              1030.0   7.000000                   3  \n",
      "3              1030.0  14.538462                   4  \n",
      "4              1210.0  13.000000                   3  \n",
      "...               ...        ...                 ...  \n",
      "8651           2010.0   9.000000                   0  \n",
      "8652           7010.0  14.250000                   0  \n",
      "8653           2010.0  11.000000                   0  \n",
      "8654           4670.0   7.250000                   0  \n",
      "8655           1110.0   6.933333                   4  \n",
      "\n",
      "[8656 rows x 7 columns]\n"
     ]
    }
   ],
   "source": [
    "# feature payments for calls\n",
    "buffer_2 = transactions.groupby('client_id')['code'].apply(lambda x: (x == 4814).sum()).reset_index(name='transactions_calls')\n",
    "predictors = pd.merge(predictors, buffer_2, on = 'client_id', how =\"left\")\n",
    "print(predictors)"
   ]
  },
  {
   "cell_type": "code",
   "execution_count": 22,
   "metadata": {},
   "outputs": [
    {
     "name": "stdout",
     "output_type": "stream",
     "text": [
      "      client_id  target  sum_of_transactions  count_transactions  \\\n",
      "0      75063019       0             89032.60                  29   \n",
      "1      86227647       1           -606058.60                  27   \n",
      "2       6506523       0           2635753.74                  53   \n",
      "3      50615998       0            -42672.40                   7   \n",
      "4      95213230       0            214292.66                  34   \n",
      "...         ...     ...                  ...                 ...   \n",
      "5995   71577803       0           -114601.90                   5   \n",
      "5996    8128547       1           -262708.36                   7   \n",
      "5997   26055781       0            -42863.31                   6   \n",
      "5998   73504380       1            -75992.84                  19   \n",
      "5999    1846496       0            -16392.05                  10   \n",
      "\n",
      "     most_common_code most_common_type  mean_hour  transactions_calls  \n",
      "0              5411.0           1110.0  15.068966                   5  \n",
      "1              5411.0           1110.0  11.222222                   7  \n",
      "2              6010.0           7030.0  13.735849                   0  \n",
      "3              4829.0           2370.0  14.142857                   3  \n",
      "4              5812.0           1030.0   9.617647                  12  \n",
      "...               ...              ...        ...                 ...  \n",
      "5995           7230.0           1010.0  10.800000                   0  \n",
      "5996           6010.0           2010.0  11.000000                   2  \n",
      "5997           5747.0           1560.0  16.666667                   0  \n",
      "5998           5411.0           1030.0  10.473684                   3  \n",
      "5999           5411.0           1020.0   9.500000                   2  \n",
      "\n",
      "[6000 rows x 8 columns]\n"
     ]
    }
   ],
   "source": [
    "train_set = pd.merge(train_set, predictors, on = 'client_id', how =\"left\")\n",
    "print(train_set)"
   ]
  },
  {
   "cell_type": "markdown",
   "metadata": {},
   "source": [
    "## Feature selection, cross-validation, implementation of one algorithm "
   ]
  },
  {
   "cell_type": "code",
   "execution_count": 23,
   "metadata": {},
   "outputs": [
    {
     "name": "stdout",
     "output_type": "stream",
     "text": [
      "[Pipeline] ...... (step 1 of 2) Processing feature_sele, total=   3.6s\n",
      "Fitting 5 folds for each of 2 candidates, totalling 10 fits\n",
      "[CV] max_depth=2 .....................................................\n",
      "[CV] ..... max_depth=2, score=(train=0.590, test=0.586), total=   0.1s\n",
      "[CV] max_depth=2 .....................................................\n",
      "[CV] ..... max_depth=2, score=(train=0.590, test=0.595), total=   0.1s\n",
      "[CV] max_depth=2 .....................................................\n"
     ]
    },
    {
     "name": "stderr",
     "output_type": "stream",
     "text": [
      "[Parallel(n_jobs=1)]: Using backend SequentialBackend with 1 concurrent workers.\n",
      "[Parallel(n_jobs=1)]: Done   1 out of   1 | elapsed:    0.1s remaining:    0.0s\n",
      "[Parallel(n_jobs=1)]: Done   2 out of   2 | elapsed:    0.2s remaining:    0.0s\n"
     ]
    },
    {
     "name": "stdout",
     "output_type": "stream",
     "text": [
      "[CV] ..... max_depth=2, score=(train=0.594, test=0.531), total=   0.1s\n",
      "[CV] max_depth=2 .....................................................\n",
      "[CV] ..... max_depth=2, score=(train=0.604, test=0.572), total=   0.1s\n",
      "[CV] max_depth=2 .....................................................\n",
      "[CV] ..... max_depth=2, score=(train=0.599, test=0.560), total=   0.1s\n",
      "[CV] max_depth=3 .....................................................\n",
      "[CV] ..... max_depth=3, score=(train=0.599, test=0.591), total=   0.1s\n",
      "[CV] max_depth=3 .....................................................\n",
      "[CV] ..... max_depth=3, score=(train=0.604, test=0.601), total=   0.1s\n",
      "[CV] max_depth=3 .....................................................\n",
      "[CV] ..... max_depth=3, score=(train=0.611, test=0.552), total=   0.1s\n",
      "[CV] max_depth=3 .....................................................\n",
      "[CV] ..... max_depth=3, score=(train=0.618, test=0.571), total=   0.1s\n",
      "[CV] max_depth=3 .....................................................\n",
      "[CV] ..... max_depth=3, score=(train=0.610, test=0.562), total=   0.1s\n",
      "[Pipeline] ............ (step 2 of 2) Processing clf_cv, total=   1.0s\n"
     ]
    },
    {
     "name": "stderr",
     "output_type": "stream",
     "text": [
      "[Parallel(n_jobs=1)]: Done  10 out of  10 | elapsed:    0.9s finished\n"
     ]
    },
    {
     "data": {
      "text/plain": [
       "Pipeline(memory=None,\n",
       "         steps=[('feature_sele',\n",
       "                 RFECV(cv=5,\n",
       "                       estimator=RandomForestClassifier(bootstrap=True,\n",
       "                                                        ccp_alpha=0.0,\n",
       "                                                        class_weight='balanced',\n",
       "                                                        criterion='gini',\n",
       "                                                        max_depth=None,\n",
       "                                                        max_features='auto',\n",
       "                                                        max_leaf_nodes=None,\n",
       "                                                        max_samples=None,\n",
       "                                                        min_impurity_decrease=0.0,\n",
       "                                                        min_impurity_split=None,\n",
       "                                                        min_samples_leaf=1,\n",
       "                                                        min_samples_split=2,\n",
       "                                                        min_weight_fraction_leaf=0.0,\n",
       "                                                        n_...\n",
       "                                                               min_impurity_decrease=0.0,\n",
       "                                                               min_impurity_split=None,\n",
       "                                                               min_samples_leaf=1,\n",
       "                                                               min_samples_split=2,\n",
       "                                                               min_weight_fraction_leaf=0.0,\n",
       "                                                               n_estimators=50,\n",
       "                                                               n_jobs=None,\n",
       "                                                               oob_score=False,\n",
       "                                                               random_state=42,\n",
       "                                                               verbose=0,\n",
       "                                                               warm_start=False),\n",
       "                              iid='deprecated', n_jobs=None,\n",
       "                              param_grid={'max_depth': [2, 3]},\n",
       "                              pre_dispatch='2*n_jobs', refit='AUC',\n",
       "                              return_train_score=True, scoring=None,\n",
       "                              verbose=3))],\n",
       "         verbose=3)"
      ]
     },
     "execution_count": 23,
     "metadata": {},
     "output_type": "execute_result"
    }
   ],
   "source": [
    "from sklearn.feature_selection import RFECV\n",
    "from sklearn.model_selection import GridSearchCV\n",
    "from sklearn.model_selection import train_test_split\n",
    "from sklearn.ensemble import RandomForestClassifier\n",
    "\n",
    "X_train, X_test, y_train, y_test = train_test_split(train_set.drop(columns = ['target', 'client_id']), train_set['target'], \n",
    "                                                    test_size=0.33, \n",
    "                                                    random_state=42)\n",
    "\n",
    "\n",
    "from sklearn.pipeline import Pipeline\n",
    "\n",
    "#this is the classifier used for feature selection\n",
    "clf_featr_sele = RandomForestClassifier(n_estimators=30, \n",
    "                                        random_state=42,\n",
    "                                        class_weight=\"balanced\") \n",
    "rfecv = RFECV(estimator=clf_featr_sele, \n",
    "              step=1, \n",
    "              cv=5, \n",
    "              scoring = 'roc_auc')\n",
    "\n",
    "#you can have different classifier for your final classifier\n",
    "clf = RandomForestClassifier(n_estimators=50, \n",
    "                             random_state=42,\n",
    "                             class_weight=\"balanced\",\n",
    "                             max_features = 2) \n",
    "CV_rfc = GridSearchCV(clf, \n",
    "                      param_grid={'max_depth':[2,3]},\n",
    "                      cv= 5, refit='AUC', return_train_score=True,\n",
    "                      verbose=3)\n",
    "\n",
    "pipeline  = Pipeline([('feature_sele',rfecv),\n",
    "                      ('clf_cv',CV_rfc)], verbose=3)\n",
    "\n",
    "pipeline.fit(X_train, y_train)"
   ]
  },
  {
   "cell_type": "code",
   "execution_count": 24,
   "metadata": {},
   "outputs": [
    {
     "data": {
      "text/plain": [
       "RandomForestClassifier(bootstrap=True, ccp_alpha=0.0, class_weight='balanced',\n",
       "                       criterion='gini', max_depth=3, max_features=2,\n",
       "                       max_leaf_nodes=None, max_samples=None,\n",
       "                       min_impurity_decrease=0.0, min_impurity_split=None,\n",
       "                       min_samples_leaf=1, min_samples_split=2,\n",
       "                       min_weight_fraction_leaf=0.0, n_estimators=50,\n",
       "                       n_jobs=None, oob_score=False, random_state=42, verbose=0,\n",
       "                       warm_start=False)"
      ]
     },
     "execution_count": 24,
     "metadata": {},
     "output_type": "execute_result"
    }
   ],
   "source": [
    "CV_rfc.best_estimator_"
   ]
  },
  {
   "cell_type": "code",
   "execution_count": 25,
   "metadata": {},
   "outputs": [
    {
     "data": {
      "text/plain": [
       "0.5753731343283581"
      ]
     },
     "execution_count": 25,
     "metadata": {},
     "output_type": "execute_result"
    }
   ],
   "source": [
    "# Far from ideal, but this is 24 hour task.\n",
    "CV_rfc.best_score_"
   ]
  },
  {
   "cell_type": "code",
   "execution_count": 26,
   "metadata": {},
   "outputs": [],
   "source": [
    "del aggregated\n",
    "del aggregated_1\n",
    "del buffer\n",
    "del buffer_1\n",
    "del buffer_2"
   ]
  },
  {
   "cell_type": "markdown",
   "metadata": {},
   "source": [
    "## Prediction"
   ]
  },
  {
   "cell_type": "code",
   "execution_count": 27,
   "metadata": {},
   "outputs": [],
   "source": [
    "test_set = pd.merge(test_set, predictors, on = 'client_id', how =\"left\").drop(columns = 'client_id')"
   ]
  },
  {
   "cell_type": "code",
   "execution_count": 28,
   "metadata": {},
   "outputs": [
    {
     "data": {
      "text/html": [
       "<div>\n",
       "<style scoped>\n",
       "    .dataframe tbody tr th:only-of-type {\n",
       "        vertical-align: middle;\n",
       "    }\n",
       "\n",
       "    .dataframe tbody tr th {\n",
       "        vertical-align: top;\n",
       "    }\n",
       "\n",
       "    .dataframe thead th {\n",
       "        text-align: right;\n",
       "    }\n",
       "</style>\n",
       "<table border=\"1\" class=\"dataframe\">\n",
       "  <thead>\n",
       "    <tr style=\"text-align: right;\">\n",
       "      <th></th>\n",
       "      <th>sum_of_transactions</th>\n",
       "      <th>count_transactions</th>\n",
       "      <th>most_common_code</th>\n",
       "      <th>most_common_type</th>\n",
       "      <th>mean_hour</th>\n",
       "      <th>transactions_calls</th>\n",
       "    </tr>\n",
       "  </thead>\n",
       "  <tbody>\n",
       "    <tr>\n",
       "      <th>0</th>\n",
       "      <td>-245029.43</td>\n",
       "      <td>15</td>\n",
       "      <td>5411.0</td>\n",
       "      <td>1010.0</td>\n",
       "      <td>8.333333</td>\n",
       "      <td>2</td>\n",
       "    </tr>\n",
       "    <tr>\n",
       "      <th>1</th>\n",
       "      <td>170464.33</td>\n",
       "      <td>3</td>\n",
       "      <td>6011.0</td>\n",
       "      <td>2010.0</td>\n",
       "      <td>14.000000</td>\n",
       "      <td>0</td>\n",
       "    </tr>\n",
       "    <tr>\n",
       "      <th>2</th>\n",
       "      <td>-406510.75</td>\n",
       "      <td>3</td>\n",
       "      <td>6011.0</td>\n",
       "      <td>2010.0</td>\n",
       "      <td>14.000000</td>\n",
       "      <td>0</td>\n",
       "    </tr>\n",
       "    <tr>\n",
       "      <th>3</th>\n",
       "      <td>-102308.88</td>\n",
       "      <td>31</td>\n",
       "      <td>5921.0</td>\n",
       "      <td>1010.0</td>\n",
       "      <td>12.677419</td>\n",
       "      <td>2</td>\n",
       "    </tr>\n",
       "    <tr>\n",
       "      <th>4</th>\n",
       "      <td>-5836986.22</td>\n",
       "      <td>37</td>\n",
       "      <td>5812.0</td>\n",
       "      <td>1030.0</td>\n",
       "      <td>12.486486</td>\n",
       "      <td>2</td>\n",
       "    </tr>\n",
       "  </tbody>\n",
       "</table>\n",
       "</div>"
      ],
      "text/plain": [
       "   sum_of_transactions  count_transactions most_common_code most_common_type  \\\n",
       "0           -245029.43                  15           5411.0           1010.0   \n",
       "1            170464.33                   3           6011.0           2010.0   \n",
       "2           -406510.75                   3           6011.0           2010.0   \n",
       "3           -102308.88                  31           5921.0           1010.0   \n",
       "4          -5836986.22                  37           5812.0           1030.0   \n",
       "\n",
       "   mean_hour  transactions_calls  \n",
       "0   8.333333                   2  \n",
       "1  14.000000                   0  \n",
       "2  14.000000                   0  \n",
       "3  12.677419                   2  \n",
       "4  12.486486                   2  "
      ]
     },
     "execution_count": 28,
     "metadata": {},
     "output_type": "execute_result"
    }
   ],
   "source": [
    "test_set.head()"
   ]
  },
  {
   "cell_type": "code",
   "execution_count": 39,
   "metadata": {},
   "outputs": [],
   "source": [
    "score = pipeline.predict(test_set).astype(int)\n",
    "np.savetxt(\"score.csv\", score, delimiter=\";\")"
   ]
  },
  {
   "cell_type": "code",
   "execution_count": 38,
   "metadata": {},
   "outputs": [
    {
     "data": {
      "text/plain": [
       "array([0, 0, 1, ..., 1, 0, 0])"
      ]
     },
     "execution_count": 38,
     "metadata": {},
     "output_type": "execute_result"
    }
   ],
   "source": [
    "score"
   ]
  }
 ],
 "metadata": {
  "kernelspec": {
   "display_name": "Python 3",
   "language": "python",
   "name": "python3"
  },
  "language_info": {
   "codemirror_mode": {
    "name": "ipython",
    "version": 3
   },
   "file_extension": ".py",
   "mimetype": "text/x-python",
   "name": "python",
   "nbconvert_exporter": "python",
   "pygments_lexer": "ipython3",
   "version": "3.7.6"
  }
 },
 "nbformat": 4,
 "nbformat_minor": 4
}
